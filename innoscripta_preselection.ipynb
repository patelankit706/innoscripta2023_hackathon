{
 "cells": [
  {
   "cell_type": "markdown",
   "id": "3630c235-f891-4874-bd0a-5277d4d6aa82",
   "metadata": {},
   "source": [
    "# Innoscripta\n",
    "In this notebook we are providing prompt for innoscripta hackathon pre-selection round\n",
    "\n",
    "## Setup"
   ]
  },
  {
   "cell_type": "code",
   "execution_count": 1,
   "id": "39689e67",
   "metadata": {
    "height": 132
   },
   "outputs": [],
   "source": [
    "import openai\n",
    "import os\n",
    "\n",
    "from dotenv import load_dotenv, find_dotenv\n",
    "_ = load_dotenv(find_dotenv()) # read local .env file\n",
    "\n",
    "openai.api_key  = os.getenv('OPENAI_API_KEY')"
   ]
  },
  {
   "cell_type": "code",
   "execution_count": 2,
   "id": "e82f5577",
   "metadata": {
    "height": 149
   },
   "outputs": [],
   "source": [
    "def get_completion(prompt, model=\"gpt-3.5-turbo\"):\n",
    "    messages = [{\"role\": \"user\", \"content\": prompt}]\n",
    "    response = openai.ChatCompletion.create(\n",
    "        model=model,\n",
    "        messages=messages,\n",
    "        temperature=0, # this is the degree of randomness of the model's output\n",
    "    )\n",
    "    return response.choices[0].message[\"content\"]"
   ]
  },
  {
   "cell_type": "markdown",
   "id": "12db1fae",
   "metadata": {
    "height": 30
   },
   "source": [
    "## Prompt"
   ]
  },
  {
   "cell_type": "code",
   "execution_count": 15,
   "id": "677f0dc8",
   "metadata": {
    "height": 455
   },
   "outputs": [],
   "source": [
    "prompt = \"\"\"\n",
    "You are a senior project manager in the company involved in innovative \\\n",
    "projects transforming consumers life using Artificial Intelligence (AI) \\\n",
    "and Machine Learning. Your last task was to manage the project involving \\\n",
    "real time speech translation using the Google Cloud Platform (GCP).\n",
    "\n",
    "As the project manager of the above company answer the following questions regarding this project.\n",
    "\n",
    "Q1. Briefly describe this project in its contents and intentions. Specifically \\\n",
    "provide what are the services and technologies you used from GCP to achieve your \\\n",
    "goal and intentions for this project. Also specify what are the technologies you used\\\n",
    "for frontend and backend to deliver it to end consumers.\n",
    "Q2. What approaches/methods are there that differ significantly from the state \\\n",
    "of the art. Specify target parameters only in the form of absolute values? \n",
    "Q3. Also tell what are the technical risks in this project?\n",
    "\n",
    "\n",
    "Make sure to give the response asked in each question in between 400-800 words. \n",
    "Provide the answer in following format:\n",
    "Answer 1: <answer to question 1>\n",
    "Answer 2: <answer to question 2>\n",
    "...\n",
    "...\n",
    "Answer n: <answer to question n>\n",
    "\n",
    "\"\"\""
   ]
  },
  {
   "cell_type": "code",
   "execution_count": 16,
   "id": "347e37cc",
   "metadata": {
    "height": 47
   },
   "outputs": [
    {
     "name": "stdout",
     "output_type": "stream",
     "text": [
      "Answer 1: \n",
      "\n",
      "The project I managed involved real-time speech translation using the Google Cloud Platform (GCP). The main goal of this project was to develop a system that could accurately translate speech from one language to another in real-time, enabling seamless communication between individuals who speak different languages.\n",
      "\n",
      "To achieve this goal, we utilized several services and technologies from GCP. The primary service we used was the Google Cloud Speech-to-Text API, which allowed us to convert spoken language into written text. This API provided us with highly accurate and reliable speech recognition capabilities, enabling us to capture and transcribe the spoken words.\n",
      "\n",
      "Once we had the transcribed text, we used the Google Cloud Translation API to translate the text from one language to another. This API supported a wide range of languages and provided us with accurate and efficient translation capabilities.\n",
      "\n",
      "For the frontend of the system, we used web technologies such as HTML, CSS, and JavaScript to create a user-friendly interface. This interface allowed users to input their speech and select the desired target language for translation. We also incorporated real-time updates to display the translated text as the speech was being processed.\n",
      "\n",
      "On the backend, we utilized Python as the primary programming language. We used Flask, a lightweight web framework, to handle the communication between the frontend and the GCP services. Flask allowed us to build a robust and scalable backend system that could handle multiple user requests simultaneously.\n",
      "\n",
      "Overall, the project aimed to leverage the power of AI and machine learning to provide a seamless and efficient speech translation solution. By utilizing the services and technologies offered by GCP, we were able to achieve our goal and deliver a reliable and user-friendly system to end consumers.\n",
      "\n",
      "Answer 2: \n",
      "\n",
      "In terms of approaches/methods that differ significantly from the state of the art, our project focused on achieving high accuracy and real-time translation capabilities. We set the following target parameters for our system:\n",
      "\n",
      "1. Accuracy: Our target was to achieve a translation accuracy of at least 95%. This meant that the translated text should be highly accurate and reflect the intended meaning of the original speech.\n",
      "\n",
      "2. Latency: We aimed to achieve a real-time translation experience with minimal latency. Our target was to keep the latency below 1 second, ensuring that the translated text was displayed almost instantaneously.\n",
      "\n",
      "3. Language Support: We aimed to support a wide range of languages for translation. Our target was to support at least 20 languages, including both widely spoken languages and languages with smaller user bases.\n",
      "\n",
      "To achieve these target parameters, we implemented several optimizations and enhancements in our system. We fine-tuned the models used by the Google Cloud Speech-to-Text API and the Translation API to improve accuracy. We also optimized the backend infrastructure to minimize latency and ensure real-time translation.\n",
      "\n",
      "Additionally, we implemented a caching mechanism to store frequently translated phrases and sentences. This allowed us to reduce the translation time for commonly used phrases, further improving the overall user experience.\n",
      "\n",
      "By focusing on these target parameters and implementing optimizations, our system was able to provide a speech translation experience that differed significantly from the state of the art. It offered high accuracy, real-time translation, and support for a wide range of languages, making it a valuable tool for individuals who needed to communicate across language barriers.\n",
      "\n",
      "Answer 3: \n",
      "\n",
      "While the project aimed to deliver a cutting-edge speech translation system, there were several technical risks involved. Some of the key technical risks in this project included:\n",
      "\n",
      "1. Speech Recognition Accuracy: One of the main challenges was achieving high accuracy in speech recognition. Accurate speech recognition is crucial for generating reliable transcriptions, which are then used for translation. However, speech recognition can be affected by various factors such as background noise, accents, and speech patterns. Ensuring high accuracy in different environments and for various speakers was a significant technical risk.\n",
      "\n",
      "2. Translation Quality: Another technical risk was the quality of the translations. Machine translation can sometimes produce inaccurate or nonsensical translations, especially for complex sentences or idiomatic expressions. Ensuring the translated text accurately conveyed the intended meaning of the original speech was a challenge.\n",
      "\n",
      "3. Latency and Real-time Processing: Achieving real-time translation with minimal latency was a technical risk. Processing speech in real-time and providing translations almost instantaneously required efficient infrastructure and optimization techniques. Any delays or bottlenecks in the system could result in a poor user experience.\n",
      "\n",
      "4. Scalability: As the system aimed to serve a large number of users simultaneously, ensuring scalability was a technical risk. The system needed to handle multiple user requests concurrently without compromising performance or accuracy. Scaling the infrastructure and optimizing the backend architecture to handle high loads was a challenge.\n",
      "\n",
      "To mitigate these technical risks, we conducted extensive testing and optimization throughout the development process. We collected and analyzed a diverse dataset of speech samples to train and fine-tune the speech recognition and translation models. We also implemented rigorous quality assurance processes to ensure the accuracy and reliability of the translations.\n",
      "\n",
      "Furthermore, we continuously monitored the system's performance and made necessary optimizations to minimize latency and improve scalability. Regular load testing and performance profiling helped identify and address any bottlenecks or scalability issues.\n",
      "\n",
      "By addressing these technical risks proactively and implementing robust mitigation strategies, we were able to deliver a high-quality and reliable speech translation system to end consumers.\n"
     ]
    }
   ],
   "source": [
    "response = get_completion(prompt)\n",
    "print(response)"
   ]
  }
 ],
 "metadata": {
  "kernelspec": {
   "display_name": "Python 3 (ipykernel)",
   "language": "python",
   "name": "python3"
  },
  "language_info": {
   "codemirror_mode": {
    "name": "ipython",
    "version": 3
   },
   "file_extension": ".py",
   "mimetype": "text/x-python",
   "name": "python",
   "nbconvert_exporter": "python",
   "pygments_lexer": "ipython3",
   "version": "3.9.16"
  }
 },
 "nbformat": 4,
 "nbformat_minor": 5
}
